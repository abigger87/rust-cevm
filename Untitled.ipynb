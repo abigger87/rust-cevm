{
 "cells": [
  {
   "cell_type": "code",
   "execution_count": 113,
   "metadata": {},
   "outputs": [],
   "source": [
    "import requests as r\n",
    "import eth_abi\n",
    "from web3 import Web3"
   ]
  },
  {
   "cell_type": "code",
   "execution_count": 130,
   "metadata": {},
   "outputs": [
    {
     "data": {
      "text/plain": [
       "'0xe6a43905'"
      ]
     },
     "execution_count": 130,
     "metadata": {},
     "output_type": "execute_result"
    }
   ],
   "source": [
    "Web3.sha3(text=\"getPair(address,address)\")[:4].hex()"
   ]
  },
  {
   "cell_type": "code",
   "execution_count": 37,
   "metadata": {},
   "outputs": [
    {
     "name": "stdout",
     "output_type": "stream",
     "text": [
      "b'{\"eth_accounts\":[]}'\n"
     ]
    }
   ],
   "source": [
    "payload = {'method': 'eth_accounts'}\n",
    "\n",
    "a = r.post(\"http://localhost:2346\", json=payload)\n",
    "print(a.content)"
   ]
  },
  {
   "cell_type": "code",
   "execution_count": 315,
   "metadata": {},
   "outputs": [
    {
     "name": "stdout",
     "output_type": "stream",
     "text": [
      "11044431\n"
     ]
    }
   ],
   "source": [
    "payload = {'method': 'eth_blockNumber'}\n",
    "\n",
    "a = r.post(\"http://localhost:2346\", json=payload)\n",
    "print(int(a.json()[\"eth_blockNumber\"], 16))"
   ]
  },
  {
   "cell_type": "code",
   "execution_count": 144,
   "metadata": {},
   "outputs": [],
   "source": []
  },
  {
   "cell_type": "code",
   "execution_count": 104,
   "metadata": {},
   "outputs": [
    {
     "name": "stdout",
     "output_type": "stream",
     "text": [
      "3.600729554133142\n"
     ]
    }
   ],
   "source": [
    "payload = {'method': 'eth_getBalance', \"params\": [\"0xde7e7651Ba5d42C0B0aF45DEC81Dbe817087342D\"]}\n",
    "\n",
    "a = r.post(\"http://localhost:2346\", json=payload)\n",
    "print(int(a.json()[\"eth_getBalance\"],16)/10**18)"
   ]
  },
  {
   "cell_type": "code",
   "execution_count": 219,
   "metadata": {},
   "outputs": [
    {
     "name": "stdout",
     "output_type": "stream",
     "text": [
      "0xe6a43905000000000000000000000000c02aaa39b223fe8d0a0e5c4f27ead9083c756cc2000000000000000000000000a0b86991c6218b36c1d19d4a2e9eb0ce3606eb48\n"
     ]
    }
   ],
   "source": [
    "\n",
    "payload = {\n",
    "    'method': 'eth_call',\n",
    "    'params': [{\n",
    "      \"from\": \"0xde7e7651Ba5d42C0B0aF45DEC81Dbe817087342D\",\n",
    "      \"to\": \"0x7a250d5630B4cF539739dF2C5dAcb4c659F2488D\",\n",
    "      \"gas\": hex(158181), # 30400\n",
    "      \"gasPrice\": hex(10**9), # 10000000000000\n",
    "      \"value\": hex(10**18), # 2441406250\n",
    "      \"data\": \"0x7ff36ab500000000000000000000000000000000000000000000000000000000172058220000000000000000000000000000000000000000000000000000000000000080000000000000000000000000de7e7651ba5d42c0b0af45dec81dbe817087342d000000000000000000000000000000000000000000000000000000005f84e2620000000000000000000000000000000000000000000000000000000000000003000000000000000000000000c02aaa39b223fe8d0a0e5c4f27ead9083c756cc2000000000000000000000000dac17f958d2ee523a2206206994597c13d831ec7000000000000000000000000a0b86991c6218b36c1d19d4a2e9eb0ce3606eb48\"\n",
    "    }]\n",
    "}\n",
    "\n",
    "call = Web3.sha3(text=\"getPair(address,address)\")[:4].hex() \\\n",
    "                        + eth_abi.encode_abi(\n",
    "                                             ['address', 'address'], \n",
    "                                             [\"0xC02aaA39b223FE8D0A0e5C4F27eAD9083C756Cc2\", \"0xA0b86991c6218b36c1d19D4a2e9Eb0cE3606eB48\"]\n",
    "                        ).hex()\n",
    "\n",
    "print(call)\n",
    "    \n",
    "payload = {\n",
    "    'method': 'eth_call',\n",
    "    'params': [{\n",
    "      \"from\": \"0xde7e7651Ba5d42C0B0aF45DEC81Dbe817087342D\",\n",
    "      \"to\": \"0x5C69bEe701ef814a2B6a3EDD4B1652CB9cc5aA6f\",\n",
    "      \"gas\": hex(10058181), # 30400\n",
    "      \"gasPrice\": hex(10**9), # 10000000000000\n",
    "      \"value\": hex(0), # 2441406250\n",
    "      \"data\": call\n",
    "    }]\n",
    "}\n",
    "a = r.post(\"http://localhost:2346\", json=payload)"
   ]
  },
  {
   "cell_type": "code",
   "execution_count": 167,
   "metadata": {},
   "outputs": [],
   "source": [
    "for i in range(10):\n",
    "    a = r.post(\"http://localhost:2346\", json=payload)"
   ]
  },
  {
   "cell_type": "code",
   "execution_count": 158,
   "metadata": {},
   "outputs": [
    {
     "data": {
      "text/plain": [
       "'000000000000000000000000b4e16d0168e52d35cacd2c6185b44281ec28c9dc'"
      ]
     },
     "execution_count": 158,
     "metadata": {},
     "output_type": "execute_result"
    }
   ],
   "source": [
    "''.join('{:02x}'.format(x) for x in a.json()[\"eth_call\"]) "
   ]
  },
  {
   "cell_type": "code",
   "execution_count": 170,
   "metadata": {},
   "outputs": [
    {
     "data": {
      "text/plain": [
       "{'eth_getTransactionReceipt': {'hash': '0x391911923d27b1e1e6634e67fff6b3025f5ff7fcd7354de5742ca3d9b59ef66a',\n",
       "  'caller': '0xde7e7651ba5d42c0b0af45dec81dbe817087342d',\n",
       "  'to': None,\n",
       "  'block_number': '0xa8840a',\n",
       "  'cumulative_gas_used': 219156,\n",
       "  'gas_used': 219156,\n",
       "  'contract_address': '0x31601722b44daadde13f73420225d058bfe5b3cb',\n",
       "  'logs': [],\n",
       "  'status': 1}}"
      ]
     },
     "execution_count": 170,
     "metadata": {},
     "output_type": "execute_result"
    }
   ],
   "source": [
    "payload = {'method': 'eth_getTransactionReceipt', \"params\": [\"0x391911923d27b1e1e6634e67fff6b3025f5ff7fcd7354de5742ca3d9b59ef66a\"]}\n",
    "a = r.post(\"http://localhost:2346\", json=payload)\n",
    "res = a.json()\n",
    "res"
   ]
  },
  {
   "cell_type": "code",
   "execution_count": 443,
   "metadata": {},
   "outputs": [
    {
     "data": {
      "text/plain": [
       "{'eth_sendTransaction': '0xd170a71560a50d964483e00c2982808d50e5f2de784360e17656d4a3a9d8bf78'}"
      ]
     },
     "execution_count": 443,
     "metadata": {},
     "output_type": "execute_result"
    }
   ],
   "source": [
    "contract = \"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\"\n",
    "payload = {\n",
    "    'method': 'eth_sendTransaction',\n",
    "    'params': [{\n",
    "      \"from\": \"0xde7e7651Ba5d42C0B0aF45DEC81Dbe817087342D\",\n",
    "      \"gas\": hex(5508181), # 30400\n",
    "      \"gasPrice\": hex(10**9), # 10000000000000\n",
    "      \"value\": hex(0), # 2441406250\n",
    "      \"data\": contract\n",
    "    }]\n",
    "}\n",
    "\n",
    "a = r.post(\"http://localhost:2346\", json=payload)\n",
    "a.json()"
   ]
  },
  {
   "cell_type": "code",
   "execution_count": 444,
   "metadata": {},
   "outputs": [
    {
     "name": "stdout",
     "output_type": "stream",
     "text": [
      "{'eth_sendTransaction': '0x25073a22c50d5289f432fca11ff496f0a1f9fbbbeb4c808d0415808a65a4e883'}\n"
     ]
    }
   ],
   "source": [
    "payload = {\n",
    "    'method': 'eth_sendTransaction',\n",
    "    'params': [{\n",
    "      \"from\": \"0xde7e7651Ba5d42C0B0aF45DEC81Dbe817087342D\",\n",
    "      \"to\": \"0x31601722b44daadde13f73420225d058bfe5b3cb\",\n",
    "      \"gas\": hex(10058181), # 30400\n",
    "      \"gasPrice\": hex(10**9), # 10000000000000\n",
    "      \"value\": hex(0), # 2441406250\n",
    "      \"data\": Web3.sha3(text=\"test()\")[:4].hex()\n",
    "    }]\n",
    "}\n",
    "a = r.post(\"http://localhost:2346\", json=payload)\n",
    "print(a.json())\n",
    "# int(''.join('{:02x}'.format(x) for x in a.json()[\"eth_call\"]), 16)"
   ]
  },
  {
   "cell_type": "code",
   "execution_count": 445,
   "metadata": {},
   "outputs": [],
   "source": [
    "payload = {\n",
    "    'method': 'eth_sendTranscation',\n",
    "    'params': [{\n",
    "      \"from\": \"0xde7e7651Ba5d42C0B0aF45DEC81Dbe817087342D\",\n",
    "      \"to\": \"0x31601722b44daadde13f73420225d058bfe5b3cb\",\n",
    "      \"gas\": hex(10058181), # 30400\n",
    "      \"gasPrice\": hex(10**9), # 10000000000000\n",
    "      \"value\": hex(0), # 2441406250\n",
    "      \"data\": Web3.sha3(text=\"test1()\")[:4].hex()\n",
    "    }]\n",
    "}\n",
    "a = r.post(\"http://localhost:2346\", json=payload)\n",
    "# int(''.join('{:02x}'.format(x) for x in a.json()[\"eth_call\"]), 16)"
   ]
  },
  {
   "cell_type": "code",
   "execution_count": 446,
   "metadata": {},
   "outputs": [
    {
     "data": {
      "text/plain": [
       "{'eth_sendTransaction': '0x82dcd1cd1779de20d443bd0b8a9d4a515b3ad8bb1d08e0dee4fce60c09bba1db'}"
      ]
     },
     "execution_count": 446,
     "metadata": {},
     "output_type": "execute_result"
    }
   ],
   "source": [
    "payload = {\n",
    "    'method': 'eth_sendTransaction',\n",
    "    'params': [{\n",
    "      \"from\": \"0xde7e7651Ba5d42C0B0aF45DEC81Dbe817087342D\",\n",
    "      \"to\": \"0x31601722b44daadde13f73420225d058bfe5b3cb\",\n",
    "      \"gas\": hex(10058181), # 30400\n",
    "      \"gasPrice\": hex(10**9), # 10000000000000\n",
    "      \"value\": hex(0), # 2441406250\n",
    "      \"data\": Web3.sha3(text=\"test2(uint256)\")[:4].hex() + eth_abi.encode_abi(\n",
    "                                             ['uint256'], \n",
    "                                             [1]\n",
    "                                        ).hex()\n",
    "\n",
    "    }]\n",
    "}\n",
    "a = r.post(\"http://localhost:2346\", json=payload)\n",
    "a.json()\n",
    "# ''.join('{:02x}'.format(x) for x in a.json()[\"eth_call\"])[24:]"
   ]
  },
  {
   "cell_type": "code",
   "execution_count": 447,
   "metadata": {},
   "outputs": [
    {
     "data": {
      "text/plain": [
       "'18e433c7bf8a2e1d0197ce5d8f9afada1a771360'"
      ]
     },
     "execution_count": 447,
     "metadata": {},
     "output_type": "execute_result"
    }
   ],
   "source": [
    "payload = {\n",
    "    'method': 'eth_call',\n",
    "    'params': [{\n",
    "      \"from\": \"0xde7e7651Ba5d42C0B0aF45DEC81Dbe817087342D\",\n",
    "      \"to\": \"0x31601722b44daadde13f73420225d058bfe5b3cb\",\n",
    "      \"gas\": hex(10058181), # 30400\n",
    "      \"gasPrice\": hex(10**9), # 10000000000000\n",
    "      \"value\": hex(0), # 2441406250\n",
    "      \"data\": Web3.sha3(text=\"test3()\")[:4].hex()\n",
    "    }]\n",
    "}\n",
    "a = r.post(\"http://localhost:2346\", json=payload)\n",
    "''.join('{:02x}'.format(x) for x in a.json()[\"eth_call\"])[24:]"
   ]
  },
  {
   "cell_type": "code",
   "execution_count": 448,
   "metadata": {},
   "outputs": [
    {
     "data": {
      "text/plain": [
       "'18e433c7bf8a2e1d0197ce5d8f9afada1a771360'"
      ]
     },
     "execution_count": 448,
     "metadata": {},
     "output_type": "execute_result"
    }
   ],
   "source": [
    "payload = {\n",
    "    'method': 'eth_call',\n",
    "    'params': [{\n",
    "      \"from\": \"0xde7e7651Ba5d42C0B0aF45DEC81Dbe817087342D\",\n",
    "      \"to\": \"0x31601722b44daadde13f73420225d058bfe5b3cb\",\n",
    "      \"gas\": hex(10058181), # 30400\n",
    "      \"gasPrice\": hex(10**9), # 10000000000000\n",
    "      \"value\": hex(0), # 2441406250\n",
    "      \"data\": Web3.sha3(text=\"test4()\")[:4].hex()\n",
    "    }]\n",
    "}\n",
    "a = r.post(\"http://localhost:2346\", json=payload)\n",
    "''.join('{:02x}'.format(x) for x in a.json()[\"eth_call\"])[24:]"
   ]
  },
  {
   "cell_type": "code",
   "execution_count": 361,
   "metadata": {},
   "outputs": [
    {
     "data": {
      "text/plain": [
       "{'eth_getStorageAt': '0x00000000000000000000000018e433c7bf8a2e1d0197ce5d8f9afada1a771360'}"
      ]
     },
     "execution_count": 361,
     "metadata": {},
     "output_type": "execute_result"
    }
   ],
   "source": [
    "payload = {\n",
    "    'method': 'eth_getStorageAt',\n",
    "    'params': [\n",
    "      \"0x5C69bEe701ef814a2B6a3EDD4B1652CB9cc5aA6f\",\n",
    "      hex(1), \n",
    "    ]\n",
    "}\n",
    "a = r.post(\"http://localhost:2346\", json=payload)\n",
    "a.json()"
   ]
  },
  {
   "cell_type": "code",
   "execution_count": 340,
   "metadata": {},
   "outputs": [
    {
     "data": {
      "text/plain": [
       "{'eth_getStorageAt': '0x0000000000000000000000007109709ecfa91a80626ff3989d68f67f5b1dd12d'}"
      ]
     },
     "execution_count": 340,
     "metadata": {},
     "output_type": "execute_result"
    }
   ],
   "source": [
    "a.json()"
   ]
  },
  {
   "cell_type": "code",
   "execution_count": 403,
   "metadata": {},
   "outputs": [
    {
     "data": {
      "text/plain": [
       "'0x667f9d70'"
      ]
     },
     "execution_count": 403,
     "metadata": {},
     "output_type": "execute_result"
    }
   ],
   "source": [
    "Web3.sha3(text=\"load(address,bytes32)\")[:4].hex()"
   ]
  },
  {
   "cell_type": "code",
   "execution_count": null,
   "metadata": {},
   "outputs": [],
   "source": []
  }
 ],
 "metadata": {
  "kernelspec": {
   "display_name": "Python 3",
   "language": "python",
   "name": "python3"
  },
  "language_info": {
   "codemirror_mode": {
    "name": "ipython",
    "version": 3
   },
   "file_extension": ".py",
   "mimetype": "text/x-python",
   "name": "python",
   "nbconvert_exporter": "python",
   "pygments_lexer": "ipython3",
   "version": "3.8.3"
  }
 },
 "nbformat": 4,
 "nbformat_minor": 4
}
